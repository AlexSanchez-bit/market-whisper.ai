{
 "cells": [
  {
   "cell_type": "markdown",
   "metadata": {},
   "source": [
    "## FORECASTING CON REDES LSTM - MODELO MULTIVARIADO - MULTISTEP"
   ]
  },
  {
   "cell_type": "code",
   "execution_count": 1,
   "metadata": {},
   "outputs": [
    {
     "name": "stderr",
     "output_type": "stream",
     "text": [
      "c:\\Users\\cmglezpdev2\\anaconda3\\Lib\\site-packages\\pandas\\core\\arrays\\masked.py:60: UserWarning: Pandas requires version '1.3.6' or newer of 'bottleneck' (version '1.3.5' currently installed).\n",
      "  from pandas.core import (\n"
     ]
    },
    {
     "data": {
      "text/html": [
       "<div>\n",
       "<style scoped>\n",
       "    .dataframe tbody tr th:only-of-type {\n",
       "        vertical-align: middle;\n",
       "    }\n",
       "\n",
       "    .dataframe tbody tr th {\n",
       "        vertical-align: top;\n",
       "    }\n",
       "\n",
       "    .dataframe thead th {\n",
       "        text-align: right;\n",
       "    }\n",
       "</style>\n",
       "<table border=\"1\" class=\"dataframe\">\n",
       "  <thead>\n",
       "    <tr style=\"text-align: right;\">\n",
       "      <th></th>\n",
       "      <th>Open time</th>\n",
       "      <th>Open</th>\n",
       "      <th>High</th>\n",
       "      <th>Low</th>\n",
       "      <th>Close</th>\n",
       "      <th>Volume</th>\n",
       "      <th>Number of trades</th>\n",
       "    </tr>\n",
       "  </thead>\n",
       "  <tbody>\n",
       "    <tr>\n",
       "      <th>0</th>\n",
       "      <td>2017-09-01 00:00:00</td>\n",
       "      <td>4689.89</td>\n",
       "      <td>4767.00</td>\n",
       "      <td>4689.89</td>\n",
       "      <td>4714.73</td>\n",
       "      <td>75.647978</td>\n",
       "      <td>623</td>\n",
       "    </tr>\n",
       "    <tr>\n",
       "      <th>1</th>\n",
       "      <td>2017-09-01 04:00:00</td>\n",
       "      <td>4714.73</td>\n",
       "      <td>4734.99</td>\n",
       "      <td>4654.88</td>\n",
       "      <td>4707.50</td>\n",
       "      <td>101.226134</td>\n",
       "      <td>541</td>\n",
       "    </tr>\n",
       "    <tr>\n",
       "      <th>2</th>\n",
       "      <td>2017-09-01 08:00:00</td>\n",
       "      <td>4715.00</td>\n",
       "      <td>4798.46</td>\n",
       "      <td>4708.09</td>\n",
       "      <td>4775.00</td>\n",
       "      <td>130.966655</td>\n",
       "      <td>810</td>\n",
       "    </tr>\n",
       "    <tr>\n",
       "      <th>3</th>\n",
       "      <td>2017-09-01 12:00:00</td>\n",
       "      <td>4775.00</td>\n",
       "      <td>4839.92</td>\n",
       "      <td>4725.81</td>\n",
       "      <td>4803.83</td>\n",
       "      <td>68.887712</td>\n",
       "      <td>518</td>\n",
       "    </tr>\n",
       "    <tr>\n",
       "      <th>4</th>\n",
       "      <td>2017-09-01 16:00:00</td>\n",
       "      <td>4756.46</td>\n",
       "      <td>4815.67</td>\n",
       "      <td>4738.94</td>\n",
       "      <td>4813.24</td>\n",
       "      <td>96.951623</td>\n",
       "      <td>893</td>\n",
       "    </tr>\n",
       "    <tr>\n",
       "      <th>...</th>\n",
       "      <td>...</td>\n",
       "      <td>...</td>\n",
       "      <td>...</td>\n",
       "      <td>...</td>\n",
       "      <td>...</td>\n",
       "      <td>...</td>\n",
       "      <td>...</td>\n",
       "    </tr>\n",
       "    <tr>\n",
       "      <th>14238</th>\n",
       "      <td>2024-03-01 00:00:00</td>\n",
       "      <td>61130.99</td>\n",
       "      <td>61749.00</td>\n",
       "      <td>60777.00</td>\n",
       "      <td>61105.91</td>\n",
       "      <td>6345.576410</td>\n",
       "      <td>243343</td>\n",
       "    </tr>\n",
       "    <tr>\n",
       "      <th>14239</th>\n",
       "      <td>2024-03-01 04:00:00</td>\n",
       "      <td>61105.92</td>\n",
       "      <td>61772.82</td>\n",
       "      <td>61061.11</td>\n",
       "      <td>61434.00</td>\n",
       "      <td>5719.405040</td>\n",
       "      <td>265072</td>\n",
       "    </tr>\n",
       "    <tr>\n",
       "      <th>14240</th>\n",
       "      <td>2024-03-01 08:00:00</td>\n",
       "      <td>61434.00</td>\n",
       "      <td>62243.53</td>\n",
       "      <td>61316.67</td>\n",
       "      <td>61863.72</td>\n",
       "      <td>8452.279910</td>\n",
       "      <td>322392</td>\n",
       "    </tr>\n",
       "    <tr>\n",
       "      <th>14241</th>\n",
       "      <td>2024-03-01 12:00:00</td>\n",
       "      <td>61863.71</td>\n",
       "      <td>62677.06</td>\n",
       "      <td>61131.01</td>\n",
       "      <td>61263.99</td>\n",
       "      <td>9971.279050</td>\n",
       "      <td>479317</td>\n",
       "    </tr>\n",
       "    <tr>\n",
       "      <th>14242</th>\n",
       "      <td>2024-03-01 16:00:00</td>\n",
       "      <td>61263.98</td>\n",
       "      <td>61539.99</td>\n",
       "      <td>61234.00</td>\n",
       "      <td>61274.35</td>\n",
       "      <td>920.575700</td>\n",
       "      <td>32262</td>\n",
       "    </tr>\n",
       "  </tbody>\n",
       "</table>\n",
       "<p>14243 rows × 7 columns</p>\n",
       "</div>"
      ],
      "text/plain": [
       "                 Open time      Open      High       Low     Close  \\\n",
       "0      2017-09-01 00:00:00   4689.89   4767.00   4689.89   4714.73   \n",
       "1      2017-09-01 04:00:00   4714.73   4734.99   4654.88   4707.50   \n",
       "2      2017-09-01 08:00:00   4715.00   4798.46   4708.09   4775.00   \n",
       "3      2017-09-01 12:00:00   4775.00   4839.92   4725.81   4803.83   \n",
       "4      2017-09-01 16:00:00   4756.46   4815.67   4738.94   4813.24   \n",
       "...                    ...       ...       ...       ...       ...   \n",
       "14238  2024-03-01 00:00:00  61130.99  61749.00  60777.00  61105.91   \n",
       "14239  2024-03-01 04:00:00  61105.92  61772.82  61061.11  61434.00   \n",
       "14240  2024-03-01 08:00:00  61434.00  62243.53  61316.67  61863.72   \n",
       "14241  2024-03-01 12:00:00  61863.71  62677.06  61131.01  61263.99   \n",
       "14242  2024-03-01 16:00:00  61263.98  61539.99  61234.00  61274.35   \n",
       "\n",
       "            Volume  Number of trades  \n",
       "0        75.647978               623  \n",
       "1       101.226134               541  \n",
       "2       130.966655               810  \n",
       "3        68.887712               518  \n",
       "4        96.951623               893  \n",
       "...            ...               ...  \n",
       "14238  6345.576410            243343  \n",
       "14239  5719.405040            265072  \n",
       "14240  8452.279910            322392  \n",
       "14241  9971.279050            479317  \n",
       "14242   920.575700             32262  \n",
       "\n",
       "[14243 rows x 7 columns]"
      ]
     },
     "execution_count": 1,
     "metadata": {},
     "output_type": "execute_result"
    }
   ],
   "source": [
    "import pandas as pd\n",
    "import matplotlib.pyplot as plt\n",
    "import numpy as np\n",
    "\n",
    "df = pd.read_csv('./data/BTCUSDT_data_fixed.csv')\n",
    "df"
   ]
  },
  {
   "cell_type": "markdown",
   "metadata": {},
   "source": [
    "## 5. Pre-procesamiento\n",
    "\n",
    "Implica:\n",
    "\n",
    "1. Partición en train/val/test (80%, 10%, 10%)\n",
    "2. Generación del dataset supervisado: entrada y salida del modelo\n",
    "3. Escalamiento\n",
    "\n",
    "Veamos cada una de estas fases."
   ]
  },
  {
   "cell_type": "markdown",
   "metadata": {},
   "source": [
    "### 5.1. Partición del set en entrenamiento, validación y prueba\n",
    "\n",
    "A diferencia de otros modelos de Machine Learning, en el caso de series de tiempo **se debe garantizar que se generan las particiones sin mezclar aleatoriamente los datos**.\n",
    "\n",
    "Recordemos además que:\n",
    "- El set de entrenamiento (*train*) se usará para encontrar los parámetros del modelo\n",
    "- El set de validación (*val*) para verificar que no haya *under/over-fitting* del modelo y para ajustar sus hiperparámetros\n",
    "- El set de prueba (*test*) para poner a prueba el mejor modelo encontrado durante el entrenamiento/validación"
   ]
  },
  {
   "cell_type": "code",
   "execution_count": 2,
   "metadata": {},
   "outputs": [],
   "source": [
    "def train_val_test_split(serie, tr_size=0.8, vl_size=0.1, ts_size=0.1):\n",
    "  \"\"\"\n",
    "  Split a time series into train, validation and test sets.\n",
    "  \"\"\"\n",
    "  N = serie.shape[0]\n",
    "  train_size = int(tr_size * N)\n",
    "  val_size = int(vl_size * N)\n",
    "  test_size = N - train_size - val_size\n",
    "\n",
    "  train = serie[:train_size]\n",
    "  val = serie[train_size:train_size + val_size]\n",
    "  test = serie[train_size + val_size:]\n",
    "\n",
    "  return train, val, test"
   ]
  },
  {
   "cell_type": "code",
   "execution_count": 3,
   "metadata": {},
   "outputs": [
    {
     "name": "stdout",
     "output_type": "stream",
     "text": [
      "Training set size: (11394,)\n",
      "Validation set size: (1424,)\n",
      "Testing set size: (1425,)\n"
     ]
    }
   ],
   "source": [
    "tr, vl, ts = train_val_test_split(df['Open'])\n",
    "\n",
    "print(f'Training set size: {tr.shape}')\n",
    "print(f'Validation set size: {vl.shape}')\n",
    "print(f'Testing set size: {ts.shape}')"
   ]
  },
  {
   "cell_type": "code",
   "execution_count": 4,
   "metadata": {},
   "outputs": [
    {
     "data": {
      "text/plain": [
       "<matplotlib.legend.Legend at 0x1ed11c1c210>"
      ]
     },
     "execution_count": 4,
     "metadata": {},
     "output_type": "execute_result"
    },
    {
     "data": {
      "image/png": "[encoded data removed]",
      "text/plain": [
       "<Figure size 1600x500 with 1 Axes>"
      ]
     },
     "metadata": {},
     "output_type": "display_data"
    }
   ],
   "source": [
    "# Dibujar los subsets\n",
    "fig, ax = plt.subplots(figsize=(16, 5))\n",
    "ax.plot(tr, label='Train')\n",
    "ax.plot(vl, label='Validation')\n",
    "ax.plot(ts, label='Test')\n",
    "plt.legend()"
   ]
  },
  {
   "cell_type": "code",
   "execution_count": 5,
   "metadata": {},
   "outputs": [],
   "source": [
    "import numpy as np\n",
    "def create_supervised_dataset(array: np.array, input_length: int, output_length: int):\n",
    "  \"\"\"\n",
    "  Creates a supervised dataset with inputs (X) and outputs (Y) requires for LSTM networks.\n",
    "\n",
    "  Args:\n",
    "    array (numpy.ndarray): The input array with size N x features (N:amount of data, f: amount of features).\n",
    "    input_length (int): Consecutive time instants of the time serie(s) used to feed the model\n",
    "    output_length (int): Instants of time to be forecast (model output)\n",
    "\n",
    "  Returns:\n",
    "    numpy.ndarray: Instants of time to be forecast (model output)\n",
    "  \"\"\"\n",
    "\n",
    "  X, Y = [], []\n",
    "  shape = array.shape\n",
    "  if len(shape) == 1:\n",
    "    # we have a single time serie (univariado)\n",
    "    rows, cols = array.shape[0], 1\n",
    "    array = array.reshape(rows, cols)\n",
    "  else:\n",
    "    # we have multiple time series (multivariado)\n",
    "    rows, cols = array.shape\n",
    "  \n",
    "  for i in range(rows - input_length - output_length):\n",
    "    x = array[i:i + input_length, 0:cols]\n",
    "    y = array[i + input_length:i + input_length + output_length, -1].reshape(output_length, 1)\n",
    "    X.append(x)\n",
    "    Y.append(y)\n",
    "    \n",
    "  X = np.array(X)\n",
    "  Y = np.array(Y)\n",
    "  \n",
    "  return X, Y"
   ]
  },
  {
   "cell_type": "code",
   "execution_count": 6,
   "metadata": {},
   "outputs": [
    {
     "name": "stdout",
     "output_type": "stream",
     "text": [
      "Tamaños entrada (BATCHES x INPUT_LENGTH x FEATURES) y de salida (BATCHES x OUTPUT_LENGTH x FEATURES)\n",
      "Training Set - x_tr: (11378, 12, 1), y_tr: (11378, 4, 1)\n",
      "Validation Set - x_vl: (1408, 12, 1), y_vl: (1408, 4, 1)\n",
      "Testing Set - x_ts: (1409, 12, 1), y_ts: (1409, 4, 1)\n"
     ]
    }
   ],
   "source": [
    "INPUT_LENGTH = 12 # 48 hours\n",
    "OUTPUT_LENGTH = 4 # 16 hours\n",
    "\n",
    "x_tr, y_tr = create_supervised_dataset(tr.values, INPUT_LENGTH, OUTPUT_LENGTH)\n",
    "x_vl, y_vl = create_supervised_dataset(vl.values, INPUT_LENGTH, OUTPUT_LENGTH)\n",
    "x_ts, y_ts = create_supervised_dataset(ts.values, INPUT_LENGTH, OUTPUT_LENGTH)\n",
    "\n",
    "print('Tamaños entrada (BATCHES x INPUT_LENGTH x FEATURES) y de salida (BATCHES x OUTPUT_LENGTH x FEATURES)')\n",
    "print(f'Training Set - x_tr: {x_tr.shape}, y_tr: {y_tr.shape}')\n",
    "print(f'Validation Set - x_vl: {x_vl.shape}, y_vl: {y_vl.shape}')\n",
    "print(f'Testing Set - x_ts: {x_ts.shape}, y_ts: {y_ts.shape}')"
   ]
  },
  {
   "cell_type": "markdown",
   "metadata": {},
   "source": [
    "### 5.3 Escalamiento\n",
    "\n",
    "Es requerido para garantizar que todas las características se encuentran en el mismo rango de valores, lo que facilita el entrenamiento del modelo y las predicciones:"
   ]
  },
  {
   "cell_type": "code",
   "execution_count": 7,
   "metadata": {},
   "outputs": [],
   "source": [
    "from sklearn.preprocessing import MinMaxScaler\n",
    "\n",
    "def scale_dataset(data_input):\n",
    "  '''Escala el dataset en el rango de -1 a 1.\n",
    "\n",
    "  Entradas:\n",
    "  data_input: diccionario con los dataset de entrada y salida del modelo\n",
    "  (data_input = {'x_tr':x_tr, 'y_tr':y_tr, 'x_vl':x_vl, 'y_vl':y_vl,\n",
    "                  'y_ts':y_ts})\n",
    "  \n",
    "  Retorna:\n",
    "  - data_scaled: diccionario con los datasets de entrada y salida escalados\n",
    "    (tiene la misma estructura del diccionario de entrada)\n",
    "  - scaler: el escalador usado (requerido para las predicciones)\n",
    "  '''\n",
    "  NFEATS = data_input['x_tr'].shape[2]\n",
    "\n",
    "  # Generar listado con \"scalers\" (en este caso, por ser sólo 1 característica\n",
    "  # se tendrá sólo 1 escalador)\n",
    "  scalers = [MinMaxScaler(feature_range=(-1,1)) for _ in range(NFEATS)]\n",
    "\n",
    "  # Arreglos que contendrán los datasets escalados\n",
    "  x_tr_s = np.zeros(data_input['x_tr'].shape)\n",
    "  x_vl_s = np.zeros(data_input['x_vl'].shape)\n",
    "  x_ts_s = np.zeros(data_input['x_ts'].shape)\n",
    "  y_tr_s = np.zeros(data_input['y_tr'].shape)\n",
    "  y_vl_s = np.zeros(data_input['y_vl'].shape)\n",
    "  y_ts_s = np.zeros(data_input['y_ts'].shape)\n",
    "\n",
    "  # Escalamiento: se usarán los min/max del set de entrenamiento para\n",
    "  # escalar la totalidad de los datasets\n",
    "\n",
    "  # Escalamiento Xs: en este caso debemos garantizar que cada dato de entrada\n",
    "  # a fit_transform o transform debe ser de tamaño nsamples x nfeatures\n",
    "  # (en este caso 24x13)\n",
    "  for i in range(NFEATS):\n",
    "      x_tr_s[:,:,i] = scalers[i].fit_transform(x_tr[:,:,i])\n",
    "      x_vl_s[:,:,i] = scalers[i].transform(x_vl[:,:,i])\n",
    "      x_ts_s[:,:,i] = scalers[i].transform(x_ts[:,:,i])\n",
    "  \n",
    "  # Escalamiento Ys\n",
    "  y_tr_s[:,:,0] = scalers[-1].fit_transform(y_tr[:,:,0])\n",
    "  y_vl_s[:,:,0] = scalers[-1].transform(y_vl[:,:,0])\n",
    "  y_ts_s[:,:,0] = scalers[-1].transform(y_ts[:,:,0])\n",
    "\n",
    "  # Conformar diccionario de salida\n",
    "  data_scaled = {\n",
    "      'x_tr_s': x_tr_s, 'y_tr_s': y_tr_s,\n",
    "      'x_vl_s': x_vl_s, 'y_vl_s': y_vl_s,\n",
    "      'x_ts_s': x_ts_s, 'y_ts_s': y_ts_s,\n",
    "  }\n",
    "\n",
    "  return data_scaled, scalers[0]"
   ]
  },
  {
   "cell_type": "code",
   "execution_count": 8,
   "metadata": {},
   "outputs": [
    {
     "name": "stdout",
     "output_type": "stream",
     "text": [
      "Min x_tr/x_vl/x_ts sin escalamiento: 2870.9/15721.51/25020.66\n",
      "Min x_tr/x_vl/x_ts con escalamiento: -1.0/-0.6083271486503168/-0.32489900044346853\n",
      "\n",
      "Min y_tr/y_vl/y_ts sin escalamiento: 2870.9/15721.51/25020.66\n",
      "Min y_tr/y_vl/y_ts con escalamiento: -1.0/-0.6083271486503168/-0.32489900044346853\n",
      "\n",
      "Max x_tr/x_vl/x_ts sin escalamiento: 68490.0/31255.83/62936.02\n",
      "Max x_tr/x_vl/x_ts con escalamiento: 1.0/-0.13485768625293548/0.830720628597466\n",
      "\n",
      "Max y_tr/y_vl/y_ts sin escalamiento: 68490.0/31255.83/62936.02\n",
      "Max y_tr/y_vl/y_ts con escalamiento: 1.0/-0.13485768625293548/0.830720628597466\n"
     ]
    }
   ],
   "source": [
    "# Escalamiento del dataset con la función anterior\n",
    "\n",
    "# Crear diccionario de entrada\n",
    "data_in = {\n",
    "    'x_tr': x_tr, 'y_tr': y_tr,\n",
    "    'x_vl': x_vl, 'y_vl': y_vl,\n",
    "    'x_ts': x_ts, 'y_ts': y_ts,\n",
    "}\n",
    "\n",
    "# Y escalar\n",
    "data_s, scaler = scale_dataset(data_in)\n",
    "\n",
    "# Extraer subsets escalados\n",
    "x_tr_s, y_tr_s = data_s['x_tr_s'], data_s['y_tr_s']\n",
    "x_vl_s, y_vl_s = data_s['x_vl_s'], data_s['y_vl_s']\n",
    "x_ts_s, y_ts_s = data_s['x_ts_s'], data_s['y_ts_s']\n",
    "\n",
    "# Verificación\n",
    "print(f'Min x_tr/x_vl/x_ts sin escalamiento: {x_tr.min()}/{x_vl.min()}/{x_ts.min()}')\n",
    "print(f'Min x_tr/x_vl/x_ts con escalamiento: {x_tr_s.min()}/{x_vl_s.min()}/{x_ts_s.min()}')\n",
    "\n",
    "print(f'\\nMin y_tr/y_vl/y_ts sin escalamiento: {y_tr.min()}/{y_vl.min()}/{y_ts.min()}')\n",
    "print(f'Min y_tr/y_vl/y_ts con escalamiento: {y_tr_s.min()}/{y_vl_s.min()}/{y_ts_s.min()}')\n",
    "\n",
    "print(f'\\nMax x_tr/x_vl/x_ts sin escalamiento: {x_tr.max()}/{x_vl.max()}/{x_ts.max()}')\n",
    "print(f'Max x_tr/x_vl/x_ts con escalamiento: {x_tr_s.max()}/{x_vl_s.max()}/{x_ts_s.max()}')\n",
    "\n",
    "print(f'\\nMax y_tr/y_vl/y_ts sin escalamiento: {y_tr.max()}/{y_vl.max()}/{y_ts.max()}')\n",
    "print(f'Max y_tr/y_vl/y_ts con escalamiento: {y_tr_s.max()}/{y_vl_s.max()}/{y_ts_s.max()}')\n"
   ]
  },
  {
   "cell_type": "markdown",
   "metadata": {},
   "source": [
    "## 6. Creación y entrenamiento del modelo\n",
    "\n",
    "- Entradas: arreglos *x* (batches x input-length  x features = batches x 24 x 1)\n",
    "- Salidas: arreglos *y* (batches x output-length x features = batches x 1 x 1)\n",
    "\n",
    "Usaremos la raíz cuadrada del error cuadrático medio (o RMSE por sus siglas en Inglés: *root mean square error*) como pérdida para entrenar el modelo:\n",
    "\n",
    "$RMSE = \\sqrt{\\frac{\\sum_i (y_i-\\hat{y_i})^2}{N}}$\n",
    "\n",
    "donde:\n",
    "- $y$: temperatura real\n",
    "- $\\hat{y}$: temperatura predicha\n",
    "- $N$: cantidad de predicciones"
   ]
  },
  {
   "cell_type": "code",
   "execution_count": 9,
   "metadata": {},
   "outputs": [
    {
     "name": "stdout",
     "output_type": "stream",
     "text": [
      "Epoch 1/80\n"
     ]
    },
    {
     "name": "stderr",
     "output_type": "stream",
     "text": [
      "c:\\Users\\cmglezpdev2\\anaconda3\\Lib\\site-packages\\keras\\src\\layers\\rnn\\rnn.py:204: UserWarning: Do not pass an `input_shape`/`input_dim` argument to a layer. When using Sequential models, prefer using an `Input(shape)` object as the first layer in the model instead.\n",
      "  super().__init__(**kwargs)\n"
     ]
    },
    {
     "name": "stdout",
     "output_type": "stream",
     "text": [
      "45/45 - 2s - 51ms/step - loss: 0.6423 - val_loss: 0.2862\n",
      "Epoch 2/80\n",
      "45/45 - 1s - 30ms/step - loss: 0.5299 - val_loss: 0.2060\n",
      "Epoch 3/80\n",
      "45/45 - 2s - 44ms/step - loss: 0.3813 - val_loss: 0.0885\n",
      "Epoch 4/80\n",
      "45/45 - 2s - 39ms/step - loss: 0.1874 - val_loss: 0.0590\n",
      "Epoch 5/80\n",
      "45/45 - 2s - 43ms/step - loss: 0.1002 - val_loss: 0.0486\n",
      "Epoch 6/80\n",
      "45/45 - 2s - 47ms/step - loss: 0.0630 - val_loss: 0.0363\n",
      "Epoch 7/80\n",
      "45/45 - 2s - 41ms/step - loss: 0.0384 - val_loss: 0.0264\n",
      "Epoch 8/80\n",
      "45/45 - 2s - 46ms/step - loss: 0.0346 - val_loss: 0.0240\n",
      "Epoch 9/80\n",
      "45/45 - 2s - 54ms/step - loss: 0.0342 - val_loss: 0.0233\n",
      "Epoch 10/80\n",
      "45/45 - 2s - 51ms/step - loss: 0.0339 - val_loss: 0.0229\n",
      "Epoch 11/80\n",
      "45/45 - 2s - 42ms/step - loss: 0.0336 - val_loss: 0.0225\n",
      "Epoch 12/80\n",
      "45/45 - 2s - 46ms/step - loss: 0.0334 - val_loss: 0.0222\n",
      "Epoch 13/80\n",
      "45/45 - 2s - 45ms/step - loss: 0.0332 - val_loss: 0.0220\n",
      "Epoch 14/80\n",
      "45/45 - 2s - 39ms/step - loss: 0.0329 - val_loss: 0.0217\n",
      "Epoch 15/80\n",
      "45/45 - 1s - 31ms/step - loss: 0.0327 - val_loss: 0.0215\n",
      "Epoch 16/80\n",
      "45/45 - 2s - 36ms/step - loss: 0.0325 - val_loss: 0.0213\n",
      "Epoch 17/80\n",
      "45/45 - 3s - 64ms/step - loss: 0.0324 - val_loss: 0.0211\n",
      "Epoch 18/80\n",
      "45/45 - 2s - 43ms/step - loss: 0.0322 - val_loss: 0.0209\n",
      "Epoch 19/80\n",
      "45/45 - 2s - 55ms/step - loss: 0.0320 - val_loss: 0.0207\n",
      "Epoch 20/80\n",
      "45/45 - 2s - 35ms/step - loss: 0.0318 - val_loss: 0.0206\n",
      "Epoch 21/80\n",
      "45/45 - 1s - 32ms/step - loss: 0.0317 - val_loss: 0.0204\n",
      "Epoch 22/80\n",
      "45/45 - 2s - 35ms/step - loss: 0.0315 - val_loss: 0.0202\n",
      "Epoch 23/80\n",
      "45/45 - 2s - 41ms/step - loss: 0.0314 - val_loss: 0.0201\n",
      "Epoch 24/80\n",
      "45/45 - 2s - 38ms/step - loss: 0.0312 - val_loss: 0.0199\n",
      "Epoch 25/80\n",
      "45/45 - 2s - 36ms/step - loss: 0.0311 - val_loss: 0.0198\n",
      "Epoch 26/80\n",
      "45/45 - 3s - 61ms/step - loss: 0.0310 - val_loss: 0.0197\n",
      "Epoch 27/80\n",
      "45/45 - 2s - 40ms/step - loss: 0.0308 - val_loss: 0.0195\n",
      "Epoch 28/80\n",
      "45/45 - 2s - 42ms/step - loss: 0.0307 - val_loss: 0.0194\n",
      "Epoch 29/80\n",
      "45/45 - 3s - 65ms/step - loss: 0.0306 - val_loss: 0.0193\n",
      "Epoch 30/80\n",
      "45/45 - 2s - 33ms/step - loss: 0.0305 - val_loss: 0.0191\n",
      "Epoch 31/80\n",
      "45/45 - 2s - 44ms/step - loss: 0.0303 - val_loss: 0.0190\n",
      "Epoch 32/80\n",
      "45/45 - 3s - 60ms/step - loss: 0.0302 - val_loss: 0.0189\n",
      "Epoch 33/80\n",
      "45/45 - 1s - 29ms/step - loss: 0.0301 - val_loss: 0.0188\n",
      "Epoch 34/80\n",
      "45/45 - 2s - 44ms/step - loss: 0.0300 - val_loss: 0.0187\n",
      "Epoch 35/80\n",
      "45/45 - 2s - 41ms/step - loss: 0.0299 - val_loss: 0.0186\n",
      "Epoch 36/80\n",
      "45/45 - 2s - 45ms/step - loss: 0.0298 - val_loss: 0.0185\n",
      "Epoch 37/80\n",
      "45/45 - 2s - 37ms/step - loss: 0.0297 - val_loss: 0.0184\n",
      "Epoch 38/80\n",
      "45/45 - 2s - 55ms/step - loss: 0.0296 - val_loss: 0.0183\n",
      "Epoch 39/80\n",
      "45/45 - 2s - 39ms/step - loss: 0.0295 - val_loss: 0.0182\n",
      "Epoch 40/80\n",
      "45/45 - 2s - 39ms/step - loss: 0.0294 - val_loss: 0.0181\n",
      "Epoch 41/80\n",
      "45/45 - 2s - 46ms/step - loss: 0.0293 - val_loss: 0.0180\n",
      "Epoch 42/80\n",
      "45/45 - 2s - 45ms/step - loss: 0.0292 - val_loss: 0.0179\n",
      "Epoch 43/80\n",
      "45/45 - 2s - 43ms/step - loss: 0.0291 - val_loss: 0.0178\n",
      "Epoch 44/80\n",
      "45/45 - 2s - 46ms/step - loss: 0.0291 - val_loss: 0.0177\n",
      "Epoch 45/80\n",
      "45/45 - 2s - 42ms/step - loss: 0.0290 - val_loss: 0.0176\n",
      "Epoch 46/80\n",
      "45/45 - 2s - 42ms/step - loss: 0.0289 - val_loss: 0.0175\n",
      "Epoch 47/80\n",
      "45/45 - 2s - 40ms/step - loss: 0.0288 - val_loss: 0.0174\n",
      "Epoch 48/80\n",
      "45/45 - 2s - 37ms/step - loss: 0.0287 - val_loss: 0.0173\n",
      "Epoch 49/80\n",
      "45/45 - 2s - 39ms/step - loss: 0.0287 - val_loss: 0.0172\n",
      "Epoch 50/80\n",
      "45/45 - 2s - 41ms/step - loss: 0.0286 - val_loss: 0.0172\n",
      "Epoch 51/80\n",
      "45/45 - 2s - 38ms/step - loss: 0.0285 - val_loss: 0.0171\n",
      "Epoch 52/80\n",
      "45/45 - 2s - 36ms/step - loss: 0.0284 - val_loss: 0.0170\n",
      "Epoch 53/80\n",
      "45/45 - 2s - 38ms/step - loss: 0.0284 - val_loss: 0.0169\n",
      "Epoch 54/80\n",
      "45/45 - 2s - 49ms/step - loss: 0.0283 - val_loss: 0.0169\n",
      "Epoch 55/80\n",
      "45/45 - 2s - 43ms/step - loss: 0.0282 - val_loss: 0.0168\n",
      "Epoch 56/80\n",
      "45/45 - 2s - 46ms/step - loss: 0.0282 - val_loss: 0.0167\n",
      "Epoch 57/80\n",
      "45/45 - 2s - 44ms/step - loss: 0.0281 - val_loss: 0.0166\n",
      "Epoch 58/80\n",
      "45/45 - 2s - 34ms/step - loss: 0.0280 - val_loss: 0.0166\n",
      "Epoch 59/80\n",
      "45/45 - 2s - 35ms/step - loss: 0.0280 - val_loss: 0.0165\n",
      "Epoch 60/80\n",
      "45/45 - 2s - 39ms/step - loss: 0.0279 - val_loss: 0.0164\n",
      "Epoch 61/80\n",
      "45/45 - 2s - 35ms/step - loss: 0.0279 - val_loss: 0.0164\n",
      "Epoch 62/80\n",
      "45/45 - 2s - 41ms/step - loss: 0.0278 - val_loss: 0.0163\n",
      "Epoch 63/80\n",
      "45/45 - 2s - 47ms/step - loss: 0.0277 - val_loss: 0.0162\n",
      "Epoch 64/80\n",
      "45/45 - 2s - 42ms/step - loss: 0.0277 - val_loss: 0.0162\n",
      "Epoch 65/80\n",
      "45/45 - 2s - 38ms/step - loss: 0.0276 - val_loss: 0.0162\n",
      "Epoch 66/80\n",
      "45/45 - 2s - 36ms/step - loss: 0.0276 - val_loss: 0.0161\n",
      "Epoch 67/80\n",
      "45/45 - 2s - 39ms/step - loss: 0.0275 - val_loss: 0.0160\n",
      "Epoch 68/80\n",
      "45/45 - 2s - 44ms/step - loss: 0.0275 - val_loss: 0.0160\n",
      "Epoch 69/80\n",
      "45/45 - 2s - 43ms/step - loss: 0.0275 - val_loss: 0.0159\n",
      "Epoch 70/80\n",
      "45/45 - 2s - 47ms/step - loss: 0.0274 - val_loss: 0.0159\n",
      "Epoch 71/80\n",
      "45/45 - 2s - 40ms/step - loss: 0.0274 - val_loss: 0.0158\n",
      "Epoch 72/80\n",
      "45/45 - 2s - 39ms/step - loss: 0.0273 - val_loss: 0.0158\n",
      "Epoch 73/80\n",
      "45/45 - 2s - 37ms/step - loss: 0.0273 - val_loss: 0.0157\n",
      "Epoch 74/80\n",
      "45/45 - 1s - 33ms/step - loss: 0.0273 - val_loss: 0.0157\n",
      "Epoch 75/80\n",
      "45/45 - 2s - 40ms/step - loss: 0.0272 - val_loss: 0.0156\n",
      "Epoch 76/80\n",
      "45/45 - 2s - 35ms/step - loss: 0.0272 - val_loss: 0.0156\n",
      "Epoch 77/80\n",
      "45/45 - 2s - 39ms/step - loss: 0.0272 - val_loss: 0.0155\n",
      "Epoch 78/80\n",
      "45/45 - 2s - 36ms/step - loss: 0.0271 - val_loss: 0.0155\n",
      "Epoch 79/80\n",
      "45/45 - 2s - 41ms/step - loss: 0.0271 - val_loss: 0.0155\n",
      "Epoch 80/80\n",
      "45/45 - 1s - 33ms/step - loss: 0.0271 - val_loss: 0.0154\n"
     ]
    }
   ],
   "source": [
    "from tensorflow.keras.models import Sequential\n",
    "from tensorflow.keras.layers import LSTM, Dense\n",
    "from tensorflow.keras.optimizers import RMSprop\n",
    "import tensorflow as tf\n",
    "\n",
    "# Adjust parameters for training\n",
    "tf.random.set_seed(42)\n",
    "tf.config.experimental.enable_op_determinism()\n",
    "\n",
    "# Model\n",
    "N_UNITS = 128 # Size of hidden layer (h) and the memory cell(c)\n",
    "INPUT_SHAPE = (x_tr_s.shape[1], x_tr_s.shape[2])\n",
    "\n",
    "model = Sequential()\n",
    "model.add(LSTM(N_UNITS, input_shape=INPUT_SHAPE))\n",
    "model.add(Dense(OUTPUT_LENGTH, activation='linear'))\n",
    "\n",
    "# loss function\n",
    "def root_mean_squared_error(y_true, y_pred):\n",
    "  return tf.math.sqrt(tf.math.reduce_mean(tf.math.square(y_pred - y_true)))\n",
    "\n",
    "# Compilation\n",
    "optimizer = RMSprop(learning_rate=5e-5)\n",
    "model.compile(\n",
    "  optimizer=optimizer,\n",
    "  loss=root_mean_squared_error\n",
    ")\n",
    "\n",
    "# Training\n",
    "EPOCHS = 80\n",
    "BATCH_SIZE = 256\n",
    "history = model.fit(\n",
    "  x = x_tr_s, \n",
    "  y = y_tr_s,\n",
    "  batch_size=BATCH_SIZE,\n",
    "  epochs=EPOCHS,\n",
    "  validation_data=(x_vl_s, y_vl_s),\n",
    "  verbose=2\n",
    ")"
   ]
  },
  {
   "cell_type": "code",
   "execution_count": 10,
   "metadata": {},
   "outputs": [
    {
     "data": {
      "text/plain": [
       "<matplotlib.legend.Legend at 0x1ed23575250>"
      ]
     },
     "execution_count": 10,
     "metadata": {},
     "output_type": "execute_result"
    },
    {
     "data": {
      "image/png": "[encoded data removed]",
      "text/plain": [
       "<Figure size 640x480 with 1 Axes>"
      ]
     },
     "metadata": {},
     "output_type": "display_data"
    }
   ],
   "source": [
    "# Plot training and validation curves to check that there is no overfitting\n",
    "plt.plot(history.history['loss'], label='RMSE train')\n",
    "plt.plot(history.history['val_loss'], label='RMSE val')\n",
    "plt.xlabel('Epoch')\n",
    "plt.ylabel('RMSE')\n",
    "plt.legend()"
   ]
  },
  {
   "cell_type": "markdown",
   "metadata": {},
   "source": [
    "**Observaciones y sugerencias:**\n",
    "\n",
    "- El modelo no tiene *overfitting*\n",
    "- Se sugiere afinar el modelo modificando varios de sus hiperparámetros y usando técnicas como, por ejemplo, *random grid search*. Los hiperparámetros a afinar pueden ser:\n",
    "  - *INPUT_LENGTH* (esto implica modificar la fase de pre-procesamiento)\n",
    "  - Número de unidades de la Red LSTM\n",
    "  - Pérdida\n",
    "  - Tasa de aprendizaje\n",
    "  - Epochs\n",
    "  - Batch size\n"
   ]
  },
  {
   "cell_type": "markdown",
   "metadata": {},
   "source": [
    "### Desempeño del modelo"
   ]
  },
  {
   "cell_type": "code",
   "execution_count": 11,
   "metadata": {},
   "outputs": [
    {
     "name": "stdout",
     "output_type": "stream",
     "text": [
      "Performances:\n",
      "\tTrain RMSE: 0.020\n",
      "\tValidation RMSE: 0.014\n",
      "\tTest RMSE: 0.019\n"
     ]
    }
   ],
   "source": [
    "rmse_tr = model.evaluate(x_tr_s, y_tr_s, verbose=0)\n",
    "rmse_vl = model.evaluate(x_vl_s, y_vl_s, verbose=0)\n",
    "rmse_ts = model.evaluate(x_ts_s, y_ts_s, verbose=0)\n",
    "\n",
    "print('Performances:')\n",
    "print('\\tTrain RMSE: %.3f' % rmse_tr)\n",
    "print('\\tValidation RMSE: %.3f' % rmse_vl)\n",
    "print('\\tTest RMSE: %.3f' % rmse_ts)"
   ]
  },
  {
   "cell_type": "markdown",
   "metadata": {},
   "source": [
    "Los desempeños son comparables lo cual quiere decir que el modelo generaliza bastante bien.\n",
    "Como en este caso tenemos 4 intevalos de predicciones(en lugar de una sola) podemos analizar cómo se comportaa el error en las predicciones para cada una de los 4 intervalos predichos.\n",
    "\n",
    "Para eso:\n",
    "  * Generaremos las predicciones sobre la totalidad del set de prueba con el modelo entrenado.\n",
    "  * Calcularemos y graficaremos el RMSE para cada instante de tiempo predicho.\n",
    "  "
   ]
  },
  {
   "cell_type": "code",
   "execution_count": 12,
   "metadata": {},
   "outputs": [
    {
     "data": {
      "image/png": "[encoded data removed]",
      "text/plain": [
       "<Figure size 640x480 with 1 Axes>"
      ]
     },
     "metadata": {},
     "output_type": "display_data"
    }
   ],
   "source": [
    "# generate predictions over the training set\n",
    "import matplotlib.pyplot as plt\n",
    "y_ts_pred_s = model.predict(x_ts_s, verbose=0)\n",
    "y_ts_pred = scaler.inverse_transform(y_ts_pred_s)\n",
    "\n",
    "diff_squeeze = np.square(y_ts.squeeze() - y_ts_pred.squeeze())\n",
    "proms = np.mean(diff_squeeze, axis=0) # 1x4\n",
    "rmse = np.sqrt(proms) # 1x4\n",
    "\n",
    "t = np.linspace(1, 4, 4)\n",
    "fig, ax = plt.subplots()\n",
    "ax.scatter(t, rmse)\n",
    "ax.set_xlabel('Forecast')\n",
    "ax.set_ylabel('RMSE')\n",
    "plt.xticks(ticks=t, labels=t)\n",
    "plt.grid()"
   ]
  },
  {
   "cell_type": "markdown",
   "metadata": {},
   "source": [
    "### Predicciones con el modelo entrenado"
   ]
  },
  {
   "cell_type": "code",
   "execution_count": 13,
   "metadata": {},
   "outputs": [],
   "source": [
    "def predict(x, model, scaler):\n",
    "  '''Genera la predicción de OUTPUT_LENGTH instantes\n",
    "  de tiempo a futuro con el modelo entrenado.\n",
    "\n",
    "  Entrada:\n",
    "  - x: batch (o batches) de datos para ingresar al modelo\n",
    "    (tamaño: BATCHES X INPUT_LENGTH X FEATURES)\n",
    "  - model: Red LSTM entrenada\n",
    "  - scaler: escalador (requerido para llevar la predicción a la escala original)\n",
    "  \n",
    "  Salida:\n",
    "  - y_pred: la predicción en la escala original (tamaño: BATCHES X OUTPUT_LENGTH X FEATURES)\n",
    "  '''\n",
    "    \n",
    "  y_pred_s = model.predict(x, verbose=0)\n",
    "  y_pred = scaler.inverse_transform(y_pred_s)\n",
    "  \n",
    "  return y_pred.flatten()"
   ]
  },
  {
   "cell_type": "code",
   "execution_count": 14,
   "metadata": {},
   "outputs": [],
   "source": [
    "# Calculate predictions over testing dataset\n",
    "y_ts_pred = predict(x_ts_s, model, scaler)"
   ]
  },
  {
   "cell_type": "markdown",
   "metadata": {},
   "source": [
    "Analicemos este desempeño gráficamente mostrando los precios originales y las predichas por el modelo para cada uno de los datos del set de prueba:"
   ]
  },
  {
   "cell_type": "code",
   "execution_count": 15,
   "metadata": {},
   "outputs": [
    {
     "data": {
      "text/plain": [
       "[<matplotlib.lines.Line2D at 0x1ed237a7650>]"
      ]
     },
     "execution_count": 15,
     "metadata": {},
     "output_type": "execute_result"
    },
    {
     "data": {
      "image/png": "[encoded data removed]",
      "text/plain": [
       "<Figure size 640x480 with 1 Axes>"
      ]
     },
     "metadata": {},
     "output_type": "display_data"
    }
   ],
   "source": [
    "N = len(y_ts_pred)\n",
    "ndata = np.linspace(1, N, N)\n",
    "\n",
    "errors = y_ts.flatten() - y_ts_pred\n",
    "plt.plot(errors)"
   ]
  },
  {
   "cell_type": "markdown",
   "metadata": {},
   "source": [
    "Se observa que:\n",
    "- EL promedio de errors es cercano a cero.\n",
    "- Hay bastantes instantes de tiempo donde se alcanzan errores de hasta -4000 y 4000 dólares de diferencia, aunque el promedio de error esta entre -1500 hasta 2000."
   ]
  }
 ],
 "metadata": {
  "kernelspec": {
   "display_name": "base",
   "language": "python",
   "name": "python3"
  },
  "language_info": {
   "codemirror_mode": {
    "name": "ipython",
    "version": 3
   },
   "file_extension": ".py",
   "mimetype": "text/x-python",
   "name": "python",
   "nbconvert_exporter": "python",
   "pygments_lexer": "ipython3",
   "version": "3.11.5"
  }
 },
 "nbformat": 4,
 "nbformat_minor": 2
}
