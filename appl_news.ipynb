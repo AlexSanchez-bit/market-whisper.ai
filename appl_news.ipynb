{
 "cells": [
  {
   "cell_type": "code",
   "execution_count": 1,
   "metadata": {},
   "outputs": [
    {
     "name": "stderr",
     "output_type": "stream",
     "text": [
      "c:\\Users\\cmglezpdev2\\anaconda3\\Lib\\site-packages\\pandas\\core\\arrays\\masked.py:60: UserWarning: Pandas requires version '1.3.6' or newer of 'bottleneck' (version '1.3.5' currently installed).\n",
      "  from pandas.core import (\n"
     ]
    },
    {
     "data": {
      "text/html": [
       "<div>\n",
       "<style scoped>\n",
       "    .dataframe tbody tr th:only-of-type {\n",
       "        vertical-align: middle;\n",
       "    }\n",
       "\n",
       "    .dataframe tbody tr th {\n",
       "        vertical-align: top;\n",
       "    }\n",
       "\n",
       "    .dataframe thead th {\n",
       "        text-align: right;\n",
       "    }\n",
       "</style>\n",
       "<table border=\"1\" class=\"dataframe\">\n",
       "  <thead>\n",
       "    <tr style=\"text-align: right;\">\n",
       "      <th></th>\n",
       "      <th>Unnamed: 0</th>\n",
       "      <th>ticker</th>\n",
       "      <th>Date</th>\n",
       "      <th>category</th>\n",
       "      <th>title</th>\n",
       "      <th>content</th>\n",
       "      <th>Open</th>\n",
       "      <th>High</th>\n",
       "      <th>Low</th>\n",
       "      <th>Close</th>\n",
       "      <th>Adj Close</th>\n",
       "      <th>Volume</th>\n",
       "      <th>label</th>\n",
       "    </tr>\n",
       "  </thead>\n",
       "  <tbody>\n",
       "    <tr>\n",
       "      <th>0</th>\n",
       "      <td>0</td>\n",
       "      <td>AAPL</td>\n",
       "      <td>2020-01-27</td>\n",
       "      <td>opinion</td>\n",
       "      <td>Apple Set To Beat Q1 Earnings Estimates  Tech ...</td>\n",
       "      <td>Technology giant Apple   NASDAQ AAPL   is set ...</td>\n",
       "      <td>77.514999</td>\n",
       "      <td>77.942497</td>\n",
       "      <td>76.220001</td>\n",
       "      <td>77.237503</td>\n",
       "      <td>75.793358</td>\n",
       "      <td>161940000</td>\n",
       "      <td>0</td>\n",
       "    </tr>\n",
       "    <tr>\n",
       "      <th>1</th>\n",
       "      <td>1</td>\n",
       "      <td>AAPL</td>\n",
       "      <td>2020-01-27</td>\n",
       "      <td>opinion</td>\n",
       "      <td>Tech Daily  Intel Results  Netflix Surge  Appl...</td>\n",
       "      <td>The top stories in this digest are Intel s   N...</td>\n",
       "      <td>77.514999</td>\n",
       "      <td>77.942497</td>\n",
       "      <td>76.220001</td>\n",
       "      <td>77.237503</td>\n",
       "      <td>75.793358</td>\n",
       "      <td>161940000</td>\n",
       "      <td>0</td>\n",
       "    </tr>\n",
       "    <tr>\n",
       "      <th>2</th>\n",
       "      <td>2</td>\n",
       "      <td>AAPL</td>\n",
       "      <td>2020-01-27</td>\n",
       "      <td>opinion</td>\n",
       "      <td>7 Monster Stock Market Predictions For The Wee...</td>\n",
       "      <td>S P 500  SPY \\nThis week will be packed with e...</td>\n",
       "      <td>77.514999</td>\n",
       "      <td>77.942497</td>\n",
       "      <td>76.220001</td>\n",
       "      <td>77.237503</td>\n",
       "      <td>75.793358</td>\n",
       "      <td>161940000</td>\n",
       "      <td>0</td>\n",
       "    </tr>\n",
       "    <tr>\n",
       "      <th>3</th>\n",
       "      <td>3</td>\n",
       "      <td>AAPL</td>\n",
       "      <td>2020-01-27</td>\n",
       "      <td>opinion</td>\n",
       "      <td>Apple Earnings Preview  5G Launch  Expanding S...</td>\n",
       "      <td>Reports Q1 2020 results on Tuesday  Jan  28 ...</td>\n",
       "      <td>77.514999</td>\n",
       "      <td>77.942497</td>\n",
       "      <td>76.220001</td>\n",
       "      <td>77.237503</td>\n",
       "      <td>75.793358</td>\n",
       "      <td>161940000</td>\n",
       "      <td>0</td>\n",
       "    </tr>\n",
       "    <tr>\n",
       "      <th>4</th>\n",
       "      <td>4</td>\n",
       "      <td>AAPL</td>\n",
       "      <td>2020-01-27</td>\n",
       "      <td>opinion</td>\n",
       "      <td>Buy Surging Apple   Microsoft Stock Before Qua...</td>\n",
       "      <td>On today s episode of Full Court Finance here ...</td>\n",
       "      <td>77.514999</td>\n",
       "      <td>77.942497</td>\n",
       "      <td>76.220001</td>\n",
       "      <td>77.237503</td>\n",
       "      <td>75.793358</td>\n",
       "      <td>161940000</td>\n",
       "      <td>0</td>\n",
       "    </tr>\n",
       "    <tr>\n",
       "      <th>...</th>\n",
       "      <td>...</td>\n",
       "      <td>...</td>\n",
       "      <td>...</td>\n",
       "      <td>...</td>\n",
       "      <td>...</td>\n",
       "      <td>...</td>\n",
       "      <td>...</td>\n",
       "      <td>...</td>\n",
       "      <td>...</td>\n",
       "      <td>...</td>\n",
       "      <td>...</td>\n",
       "      <td>...</td>\n",
       "      <td>...</td>\n",
       "    </tr>\n",
       "    <tr>\n",
       "      <th>15970</th>\n",
       "      <td>15970</td>\n",
       "      <td>AAPL</td>\n",
       "      <td>2012-07-31</td>\n",
       "      <td>opinion</td>\n",
       "      <td>What s Driving China s Real Estate Rally   Par...</td>\n",
       "      <td>In the preceding posts  I examined the first t...</td>\n",
       "      <td>21.543928</td>\n",
       "      <td>21.846430</td>\n",
       "      <td>21.525715</td>\n",
       "      <td>21.812857</td>\n",
       "      <td>18.624512</td>\n",
       "      <td>462327600</td>\n",
       "      <td>1</td>\n",
       "    </tr>\n",
       "    <tr>\n",
       "      <th>15971</th>\n",
       "      <td>15971</td>\n",
       "      <td>AAPL</td>\n",
       "      <td>2012-07-31</td>\n",
       "      <td>opinion</td>\n",
       "      <td>50 Stocks With The Best Dividend Growth In Jul...</td>\n",
       "      <td>Here is a current sheet of companies with fast...</td>\n",
       "      <td>21.543928</td>\n",
       "      <td>21.846430</td>\n",
       "      <td>21.525715</td>\n",
       "      <td>21.812857</td>\n",
       "      <td>18.624512</td>\n",
       "      <td>462327600</td>\n",
       "      <td>1</td>\n",
       "    </tr>\n",
       "    <tr>\n",
       "      <th>15972</th>\n",
       "      <td>15972</td>\n",
       "      <td>AAPL</td>\n",
       "      <td>2012-07-23</td>\n",
       "      <td>opinion</td>\n",
       "      <td>Summer Heat Scorches Europe And U S</td>\n",
       "      <td>Europe flares as summer heat continues  Summer...</td>\n",
       "      <td>21.228571</td>\n",
       "      <td>21.639286</td>\n",
       "      <td>20.989643</td>\n",
       "      <td>21.565357</td>\n",
       "      <td>18.413187</td>\n",
       "      <td>487975600</td>\n",
       "      <td>1</td>\n",
       "    </tr>\n",
       "    <tr>\n",
       "      <th>15973</th>\n",
       "      <td>15973</td>\n",
       "      <td>AAPL</td>\n",
       "      <td>2012-07-23</td>\n",
       "      <td>opinion</td>\n",
       "      <td>Apple Earnings Preview  Quarterly Dip On Deck</td>\n",
       "      <td>Last quarter Apple  AAPL  reported the 2nd bes...</td>\n",
       "      <td>21.228571</td>\n",
       "      <td>21.639286</td>\n",
       "      <td>20.989643</td>\n",
       "      <td>21.565357</td>\n",
       "      <td>18.413187</td>\n",
       "      <td>487975600</td>\n",
       "      <td>1</td>\n",
       "    </tr>\n",
       "    <tr>\n",
       "      <th>15974</th>\n",
       "      <td>15974</td>\n",
       "      <td>AAPL</td>\n",
       "      <td>2012-07-23</td>\n",
       "      <td>opinion</td>\n",
       "      <td>Trade Apple After Earnings</td>\n",
       "      <td>It may look like a spider web  but the mishmas...</td>\n",
       "      <td>21.228571</td>\n",
       "      <td>21.639286</td>\n",
       "      <td>20.989643</td>\n",
       "      <td>21.565357</td>\n",
       "      <td>18.413187</td>\n",
       "      <td>487975600</td>\n",
       "      <td>1</td>\n",
       "    </tr>\n",
       "  </tbody>\n",
       "</table>\n",
       "<p>15975 rows × 13 columns</p>\n",
       "</div>"
      ],
      "text/plain": [
       "       Unnamed: 0 ticker        Date category  \\\n",
       "0               0   AAPL  2020-01-27  opinion   \n",
       "1               1   AAPL  2020-01-27  opinion   \n",
       "2               2   AAPL  2020-01-27  opinion   \n",
       "3               3   AAPL  2020-01-27  opinion   \n",
       "4               4   AAPL  2020-01-27  opinion   \n",
       "...           ...    ...         ...      ...   \n",
       "15970       15970   AAPL  2012-07-31  opinion   \n",
       "15971       15971   AAPL  2012-07-31  opinion   \n",
       "15972       15972   AAPL  2012-07-23  opinion   \n",
       "15973       15973   AAPL  2012-07-23  opinion   \n",
       "15974       15974   AAPL  2012-07-23  opinion   \n",
       "\n",
       "                                                   title  \\\n",
       "0      Apple Set To Beat Q1 Earnings Estimates  Tech ...   \n",
       "1      Tech Daily  Intel Results  Netflix Surge  Appl...   \n",
       "2      7 Monster Stock Market Predictions For The Wee...   \n",
       "3      Apple Earnings Preview  5G Launch  Expanding S...   \n",
       "4      Buy Surging Apple   Microsoft Stock Before Qua...   \n",
       "...                                                  ...   \n",
       "15970  What s Driving China s Real Estate Rally   Par...   \n",
       "15971  50 Stocks With The Best Dividend Growth In Jul...   \n",
       "15972               Summer Heat Scorches Europe And U S    \n",
       "15973     Apple Earnings Preview  Quarterly Dip On Deck    \n",
       "15974                         Trade Apple After Earnings   \n",
       "\n",
       "                                                 content       Open  \\\n",
       "0      Technology giant Apple   NASDAQ AAPL   is set ...  77.514999   \n",
       "1      The top stories in this digest are Intel s   N...  77.514999   \n",
       "2      S P 500  SPY \\nThis week will be packed with e...  77.514999   \n",
       "3        Reports Q1 2020 results on Tuesday  Jan  28 ...  77.514999   \n",
       "4      On today s episode of Full Court Finance here ...  77.514999   \n",
       "...                                                  ...        ...   \n",
       "15970  In the preceding posts  I examined the first t...  21.543928   \n",
       "15971  Here is a current sheet of companies with fast...  21.543928   \n",
       "15972  Europe flares as summer heat continues  Summer...  21.228571   \n",
       "15973  Last quarter Apple  AAPL  reported the 2nd bes...  21.228571   \n",
       "15974  It may look like a spider web  but the mishmas...  21.228571   \n",
       "\n",
       "            High        Low      Close  Adj Close     Volume  label  \n",
       "0      77.942497  76.220001  77.237503  75.793358  161940000      0  \n",
       "1      77.942497  76.220001  77.237503  75.793358  161940000      0  \n",
       "2      77.942497  76.220001  77.237503  75.793358  161940000      0  \n",
       "3      77.942497  76.220001  77.237503  75.793358  161940000      0  \n",
       "4      77.942497  76.220001  77.237503  75.793358  161940000      0  \n",
       "...          ...        ...        ...        ...        ...    ...  \n",
       "15970  21.846430  21.525715  21.812857  18.624512  462327600      1  \n",
       "15971  21.846430  21.525715  21.812857  18.624512  462327600      1  \n",
       "15972  21.639286  20.989643  21.565357  18.413187  487975600      1  \n",
       "15973  21.639286  20.989643  21.565357  18.413187  487975600      1  \n",
       "15974  21.639286  20.989643  21.565357  18.413187  487975600      1  \n",
       "\n",
       "[15975 rows x 13 columns]"
      ]
     },
     "execution_count": 1,
     "metadata": {},
     "output_type": "execute_result"
    }
   ],
   "source": [
    "import pandas as pd\n",
    "import matplotlib.pyplot as plt\n",
    "import numpy as np\n",
    "\n",
    "df = pd.read_csv('./data/YAHOO_NEWS_APPL.csv')\n",
    "df"
   ]
  },
  {
   "cell_type": "markdown",
   "metadata": {},
   "source": [
    "### Obteniendo los datos reales de Yahoo Finances\n",
    "\n",
    "El rango de precios va desde `2020-08-07` hasta `2024-06-07`, o sea, aproximandamente 1 año"
   ]
  },
  {
   "cell_type": "code",
   "execution_count": 2,
   "metadata": {},
   "outputs": [],
   "source": [
    "import yfinance as yf\n",
    "\n",
    "# apple = yf.Ticker('AAPL')\n",
    "# apple_values = apple.history(start='2000-01-01', end='2025-05-05')\n",
    "# apple_values.to_csv('apple.csv')\n",
    "\n",
    "apple_values = pd.read_csv('./apple.csv')"
   ]
  },
  {
   "cell_type": "code",
   "execution_count": 3,
   "metadata": {},
   "outputs": [
    {
     "data": {
      "text/plain": [
       "<matplotlib.legend.Legend at 0x21eac29c6d0>"
      ]
     },
     "execution_count": 3,
     "metadata": {},
     "output_type": "execute_result"
    },
    {
     "data": {
      "image/png": "[encoded data removed]",
      "text/plain": [
       "<Figure size 1600x500 with 1 Axes>"
      ]
     },
     "metadata": {},
     "output_type": "display_data"
    }
   ],
   "source": [
    "fig, ax = plt.subplots(figsize=(16, 5))\n",
    "ax.plot(apple_values['Close'], label='Apple price')\n",
    "plt.legend()"
   ]
  },
  {
   "cell_type": "markdown",
   "metadata": {},
   "source": [
    "Vamos a normalizar la el histórico del precios, pero sin usar el método de MinMax para eso ya que el precio de una acción o tiene limite superior y la cantidad de datos no es suficiente para establecer el límite inferior(podía ser cero pero posiblemente no sería un buen límite)"
   ]
  },
  {
   "cell_type": "code",
   "execution_count": 4,
   "metadata": {},
   "outputs": [
    {
     "data": {
      "text/plain": [
       "array([[  0.84498113],\n",
       "       [  0.77374047],\n",
       "       [  0.78506303],\n",
       "       ...,\n",
       "       [220.27000427],\n",
       "       [221.55000305],\n",
       "       [226.33999634]])"
      ]
     },
     "execution_count": 4,
     "metadata": {},
     "output_type": "execute_result"
    }
   ],
   "source": [
    "data = np.array(apple_values['Close']).reshape(-1, 1)\n",
    "data"
   ]
  },
  {
   "cell_type": "code",
   "execution_count": 5,
   "metadata": {},
   "outputs": [
    {
     "name": "stdout",
     "output_type": "stream",
     "text": [
      "3.455231721141029\n",
      "-0.684519907161077\n"
     ]
    },
    {
     "data": {
      "text/plain": [
       "(array([[-0.6726777 ],\n",
       "        [-0.67398183],\n",
       "        [-0.67377456],\n",
       "        ...,\n",
       "        [ 3.34411451],\n",
       "        [ 3.36754615],\n",
       "        [ 3.45523172]]),\n",
       " 37.59129814678397,\n",
       " 54.626929081553975)"
      ]
     },
     "execution_count": 5,
     "metadata": {},
     "output_type": "execute_result"
    }
   ],
   "source": [
    "def z_score_normalize(data):\n",
    "  mean = np.mean(data)\n",
    "  std = np.std(data)\n",
    "  return (data - mean) / std, mean, std\n",
    "\n",
    "def inverse_z_score(normalized_data, mean, std):\n",
    "  return normalized_data * std + mean\n",
    "\n",
    "normalized_data, data_mean, data_std = z_score_normalize(data)\n",
    "print(normalized_data.max())\n",
    "print(normalized_data.min())\n",
    "normalized_data, data_mean, data_std"
   ]
  },
  {
   "cell_type": "code",
   "execution_count": 6,
   "metadata": {},
   "outputs": [
    {
     "data": {
      "text/plain": [
       "<matplotlib.legend.Legend at 0x21eb137bbd0>"
      ]
     },
     "execution_count": 6,
     "metadata": {},
     "output_type": "execute_result"
    },
    {
     "data": {
      "image/png": "[encoded data removed]",
      "text/plain": [
       "<Figure size 1600x500 with 1 Axes>"
      ]
     },
     "metadata": {},
     "output_type": "display_data"
    }
   ],
   "source": [
    "# grafiar la data ya estandarisada\n",
    "fig, ax = plt.subplots(figsize=(16, 5))\n",
    "ax.plot(normalized_data, label='Normalized apple price')\n",
    "fig.legend()"
   ]
  },
  {
   "cell_type": "code",
   "execution_count": 8,
   "metadata": {},
   "outputs": [
    {
     "data": {
      "text/plain": [
       "15974   2012-07-23\n",
       "15973   2012-07-23\n",
       "15972   2012-07-23\n",
       "15967   2012-07-24\n",
       "15968   2012-07-27\n",
       "           ...    \n",
       "5       2020-01-27\n",
       "4       2020-01-27\n",
       "3       2020-01-27\n",
       "2       2020-01-27\n",
       "0       2020-01-27\n",
       "Name: Date, Length: 15975, dtype: datetime64[ns]"
      ]
     },
     "execution_count": 8,
     "metadata": {},
     "output_type": "execute_result"
    }
   ],
   "source": [
    "df['Date'] = pd.to_datetime(df['Date'])\n",
    "df = df.sort_values(by='Date', ascending=True)\n",
    "df['Date']\n",
    "\n",
    "# df['Date'].diff().value_counts()\n",
    "\n",
    "# set = (df['Date'])\n",
    "\n",
    "# df['Date'].shape[0] == len(set)"
   ]
  }
 ],
 "metadata": {
  "kernelspec": {
   "display_name": "base",
   "language": "python",
   "name": "python3"
  },
  "language_info": {
   "codemirror_mode": {
    "name": "ipython",
    "version": 3
   },
   "file_extension": ".py",
   "mimetype": "text/x-python",
   "name": "python",
   "nbconvert_exporter": "python",
   "pygments_lexer": "ipython3",
   "version": "3.11.5"
  }
 },
 "nbformat": 4,
 "nbformat_minor": 2
}
